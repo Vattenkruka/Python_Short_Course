{
 "cells": [
  {
   "cell_type": "markdown",
   "metadata": {},
   "source": [
    "# Week 08, Assignment 01: Compiling\n",
    "# Compiling Python into something everyone can use!\n",
    "In this lesson we will be learning what compiling is and we can create .exe for our Python programs"
   ]
  },
  {
   "cell_type": "markdown",
   "metadata": {},
   "source": [
    "### Objective 1: Compile or interpret?\n",
    "Use your favourite online search engine to research the terms `compiler` and `intepreter`. In your own words explain what the difference between running a program through an interpreter and a compiler is. "
   ]
  },
  {
   "cell_type": "markdown",
   "metadata": {},
   "source": []
  },
  {
   "cell_type": "markdown",
   "metadata": {},
   "source": [
    "### Objective 2: Icy!\n",
    "What does it mean when a compiler \"freezes\" a program? "
   ]
  },
  {
   "cell_type": "markdown",
   "metadata": {},
   "source": []
  },
  {
   "cell_type": "markdown",
   "metadata": {},
   "source": [
    "### Objective 3: Compiling flightgen\n",
    "Copy the code for `flightgen` from the course notes into a new .py file and execute the file to ensure it is working correctly. Then using `pyinstaller` create a single one-file .exe program from `flightgen.py`. After it is compiled execute the .exe and compare the output to that of the .py. Attach a screenshot of the .exe's terminal below to prove you successfully compiled the program"
   ]
  },
  {
   "cell_type": "markdown",
   "metadata": {},
   "source": []
  },
  {
   "cell_type": "markdown",
   "metadata": {},
   "source": [
    "### Objective 4: Making our own .exe\n",
    "Let's have a little fun with Python and create a graphical design program that we can execute anywhere.\n",
    "* Read the documentation on the `Turtle` module here: https://docs.python.org/3/library/turtle.html\n",
    "* Write a program that will create a 600 x 600 window that will draw the Noroff logo when it is executed.\n",
    "* To do this you will need to make the turtle drawing pen outline the shape of the Noroff logo and then fill it using a red color.\n",
    "* Once you've successfully created the Noroff logo using the .py, compile the program into an executable called `Noroff.exe`.\n",
    "* Your program must draw the current Noroff logo in red. A guide for the shape of the logo is given below.\n",
    "* Submit the .exe along with your answers to prove you understand how to create an compile programs.\n",
    "\n",
    "Hints:\n",
    "* The turtle program will automatically create a window for you, resizing it matter of changing the paramaters.\n",
    "* To make a turtle draw a line simply tell it to move forward by the number of pixels it must draw. \n",
    "* To make a turtle change directions simply it left or right and the number of degrees.\n",
    "* The color of the pen and fill can be changed, use the documentation to find out how\n",
    "* Feel free to look up some Turtle tutorials online to help your understanding."
   ]
  },
  {
   "cell_type": "markdown",
   "metadata": {},
   "source": [
    "![](noroffdimensions.png)"
   ]
  },
  {
   "cell_type": "markdown",
   "metadata": {},
   "source": [
    "### Objective 5: Expanding drawing program\n",
    "Expand your code for objective 4 to a new program called `Logo`. Your program must do the following:\n",
    "* Accept user input to change the color of logo to blue, red, green, pink, or black\n",
    "* Accept user input to change the scale of the logo printed from 0% to 100%\n",
    "* Program one more logo of your choosing to be drawn too, again user input must be used to choose either the Noroff logo to be drawn, or your chosen logo.\n",
    "* Your program must be compiled into a .exe, however submit both the .py and .exe for a final evaluation."
   ]
  },
  {
   "cell_type": "markdown",
   "metadata": {},
   "source": [
    "### Preparation for tomorrow...\n",
    "* Look up what a JSON is and what is stands for\n",
    "* Find some examples of JSON and where it is used."
   ]
  },
  {
   "cell_type": "code",
   "execution_count": null,
   "metadata": {},
   "outputs": [],
   "source": []
  }
 ],
 "metadata": {
  "kernelspec": {
   "display_name": "Python 3",
   "language": "python",
   "name": "python3"
  },
  "language_info": {
   "codemirror_mode": {
    "name": "ipython",
    "version": 3
   },
   "file_extension": ".py",
   "mimetype": "text/x-python",
   "name": "python",
   "nbconvert_exporter": "python",
   "pygments_lexer": "ipython3",
   "version": "3.7.4"
  }
 },
 "nbformat": 4,
 "nbformat_minor": 4
}
