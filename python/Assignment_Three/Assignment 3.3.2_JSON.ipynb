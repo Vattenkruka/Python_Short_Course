{
 "cells": [
  {
   "cell_type": "markdown",
   "metadata": {},
   "source": [
    "# Week 08, Assignment 02: JSON\n",
    "# Ah JavaScript, our old friend.\n",
    "In this lesson we will be learning what JSON is used for and how it we can quickly manipulate JSON objects in Python."
   ]
  },
  {
   "cell_type": "markdown",
   "metadata": {},
   "source": [
    "### Objective 1: Serial or deserial \n",
    "What is the difference between serialization and deserialization when using JSON in Python? Draw a small diagram to help illustrate your explanation."
   ]
  },
  {
   "cell_type": "markdown",
   "metadata": {},
   "source": []
  },
  {
   "cell_type": "markdown",
   "metadata": {},
   "source": [
    "### Objective 2: Getting ready for JSON\n",
    "Below is class object for Boat objects. Execute the cell and make sure you understand how the objects are generated. Then write a `toDict` function that will convert our Boat property into a Dictionary that can easily be made into JSON. Ensure all the properties of our Boat object is present in the dict, use the property variable names and suitable string keys."
   ]
  },
  {
   "cell_type": "code",
   "execution_count": 4,
   "metadata": {},
   "outputs": [],
   "source": [
    "class Boat:\n",
    "    _type = None\n",
    "    _model = None\n",
    "    _color = None\n",
    "    _engines = None\n",
    "    _topspeed = None\n",
    "    \n",
    "    def __init__(self,t,m,c,e,ts):\n",
    "        self._type = t\n",
    "        self._model = m\n",
    "        self._color = c\n",
    "        self._engines = list(e)\n",
    "        self._topspeed = int(ts)\n",
    "    \n",
    "    def __str__(self):\n",
    "        return f\"A {self._type} Boat, model {self._model}. {len(self._engines)} engine{'' if len(self._engines) == 1 else 's'} with a top speed of {self._topspeed} knots.\"\n",
    "    \n",
    "    def toDict(self):\n",
    "        pass"
   ]
  },
  {
   "cell_type": "code",
   "execution_count": null,
   "metadata": {},
   "outputs": [],
   "source": [
    "y500 = Boat(\"Fishing\",\"Yamaha 5000\",\"Blue and White\",[\"Mariner 50\",\"Mariner 50\"],80)\n",
    "sbx3 = Boat(\"Dingey\",\"Supersport Blueline X3\",\"Yellow\",[],5)\n",
    "ebbb = Boat(\"Speedboat\",\"Essential BBB\",\"Red and White\",[\"Pegasus 5000\"],100)\n",
    "print(y500)"
   ]
  },
  {
   "cell_type": "markdown",
   "metadata": {},
   "source": [
    "### Objective 3: Ship it!\n",
    "Convert our `y500`, `sbx3`, `ebbb` object into JSON and print the resulting text to console and output them to a text filed called `Boats.json`."
   ]
  },
  {
   "cell_type": "code",
   "execution_count": null,
   "metadata": {},
   "outputs": [],
   "source": []
  },
  {
   "cell_type": "markdown",
   "metadata": {},
   "source": [
    "### Ojective 4: Read it back to me\n",
    "Using the output from `Boats.json` as input, read our data back into memory and convert it to dicts into memory. Print the resulting dicts to console to prove you understand how to load JSON into memory"
   ]
  },
  {
   "cell_type": "code",
   "execution_count": null,
   "metadata": {},
   "outputs": [],
   "source": []
  },
  {
   "cell_type": "markdown",
   "metadata": {},
   "source": [
    "### Objective 5: Getting fancy with the objects\n",
    "Copy the code for the Boat class and add the following features:\n",
    "* When a boat object is created it can either be given the traditional `(t,m,c,e,ts)` parameters or a JSON string\n",
    "* Rewrite the init function to dynamically either create the object normally or convert the JSON string into a dict which then populates the object attributes\n",
    "* Write a `pretty()` class function that will return all the class parameters to a JSON style string.\n",
    "\n",
    "You program must successfully create and execute the data below.\n",
    "\n",
    "Hint: Your init function might benefit from using `*args`"
   ]
  },
  {
   "cell_type": "code",
   "execution_count": null,
   "metadata": {},
   "outputs": [],
   "source": [
    "# TODO: Rewrite Boat"
   ]
  },
  {
   "cell_type": "code",
   "execution_count": null,
   "metadata": {},
   "outputs": [],
   "source": [
    "y500 = Boat(\"Fishing\",\"Yamaha 5000\",\"Blue and White\",[\"Mariner 50\",\"Mariner 50\"],80)\n",
    "y500_2 = Boat('{\"type\": \"Fishing\", \"model\": \"Yamaha 5000\", \"color\": \"Blue and White\", \"engines\": [\"Mariner 50\", \"Mariner 50\"], \"topspeed\": 80}')\n",
    "print(y500.pretty())"
   ]
  }
 ],
 "metadata": {
  "kernelspec": {
   "display_name": "Python 3",
   "language": "python",
   "name": "python3"
  },
  "language_info": {
   "codemirror_mode": {
    "name": "ipython",
    "version": 3
   },
   "file_extension": ".py",
   "mimetype": "text/x-python",
   "name": "python",
   "nbconvert_exporter": "python",
   "pygments_lexer": "ipython3",
   "version": "3.7.4"
  }
 },
 "nbformat": 4,
 "nbformat_minor": 4
}
