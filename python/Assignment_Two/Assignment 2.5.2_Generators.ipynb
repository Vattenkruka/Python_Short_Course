{
 "cells": [
  {
   "cell_type": "markdown",
   "metadata": {},
   "source": [
    "# Week 06, Assignment 04: Generators\n",
    "# Data when you need it\n",
    "In this lesson we will be understanding how to create and use generators"
   ]
  },
  {
   "cell_type": "markdown",
   "metadata": {},
   "source": [
    "### Objective 1: Yieldings results!\n",
    "How can we convert a regular method that returns an object into a generator method?"
   ]
  },
  {
   "cell_type": "markdown",
   "metadata": {},
   "source": []
  },
  {
   "cell_type": "markdown",
   "metadata": {},
   "source": [
    "### Objective 2: Wield and yield\n",
    "Below is an example of a method that returns a random set of lottery numbers every time it is called. Run the code to ensure you understand how it works, then rewrite it in the cell below as a generator function. Rename your fucntion to `generate_lottery_numbers`"
   ]
  },
  {
   "cell_type": "code",
   "execution_count": 1,
   "metadata": {},
   "outputs": [
    {
     "name": "stdout",
     "output_type": "stream",
     "text": [
      "[8, 12, 28, 36, 45]\n"
     ]
    }
   ],
   "source": [
    "from random import randint\n",
    "def lottery_numbers(number_count):\n",
    "    ticket = set()\n",
    "    for n in range(number_count):\n",
    "        number = None\n",
    "        while (number is None or number in ticket):\n",
    "            number = randint(1,51)\n",
    "        ticket.add(number)\n",
    "    return sorted(ticket) \n",
    "\n",
    "print(lottery_numbers(5))"
   ]
  },
  {
   "cell_type": "code",
   "execution_count": null,
   "metadata": {},
   "outputs": [],
   "source": []
  },
  {
   "cell_type": "markdown",
   "metadata": {},
   "source": [
    "### Objective 3: Comparing speeds & memory\n",
    "Now that we have two functions it migth be prudent to do a little testing to see which one performs better.\n",
    "\n",
    "In the cell below we will be using `%timeit` to see how long it takes for each function to complete and `%memit` to see how much memory is used. Run the cell and comment on the results. Explain why the generator function generally performs better. Note that we create a large number of lottery numbers to simulate data sets we might use in practice."
   ]
  },
  {
   "cell_type": "code",
   "execution_count": null,
   "metadata": {},
   "outputs": [],
   "source": [
    "many_lottery_numbers = [lottery_numbers(5) for x in range(100000)]\n",
    "\n",
    "%timeit many_lottery_numbers\n",
    "%memit many_lottery_numbers\n",
    "\n",
    "many_generated_lottery_numbers = [generate_lottery_numbers(5) for x in range(100000)]\n",
    "\n",
    "%timeit many_generated_lottery_numbers\n",
    "%memit many_generated_lottery_numbers"
   ]
  },
  {
   "cell_type": "markdown",
   "metadata": {},
   "source": []
  },
  {
   "cell_type": "markdown",
   "metadata": {},
   "source": [
    "### Objective 4: Make it work\n",
    "When we call `generate_lottery_numbers()` it returns a `generator` object. How can we get the values out? Demonstrate two methods in code below."
   ]
  },
  {
   "cell_type": "code",
   "execution_count": null,
   "metadata": {},
   "outputs": [],
   "source": []
  },
  {
   "cell_type": "markdown",
   "metadata": {},
   "source": [
    "### Objective 5: Generating mass objects\n",
    "Write a program that opens `alice_in_wonderland` that reads every line of text only when needed and then catalogs the instance of every word into a dictionary. Your program must make use of a generator to handle the file input."
   ]
  },
  {
   "cell_type": "code",
   "execution_count": null,
   "metadata": {},
   "outputs": [],
   "source": []
  }
 ],
 "metadata": {
  "kernelspec": {
   "display_name": "Python 3",
   "language": "python",
   "name": "python3"
  },
  "language_info": {
   "codemirror_mode": {
    "name": "ipython",
    "version": 3
   },
   "file_extension": ".py",
   "mimetype": "text/x-python",
   "name": "python",
   "nbconvert_exporter": "python",
   "pygments_lexer": "ipython3",
   "version": "3.7.4"
  }
 },
 "nbformat": 4,
 "nbformat_minor": 4
}
