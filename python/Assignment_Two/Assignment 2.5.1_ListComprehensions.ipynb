{
 "cells": [
  {
   "cell_type": "markdown",
   "metadata": {},
   "source": [
    "# Week 06, Assignment 03: List Comprehension\n",
    "# One liners with great power\n",
    "In this lesson we will be understanding list comprehension and why they are useful to us"
   ]
  },
  {
   "cell_type": "markdown",
   "metadata": {},
   "source": [
    "### Objective 1: A refresher\n",
    "Give a brief explanation of what a ternary expression does."
   ]
  },
  {
   "cell_type": "markdown",
   "metadata": {},
   "source": []
  },
  {
   "cell_type": "markdown",
   "metadata": {},
   "source": [
    "### Objective 2: A simple redo\n",
    "Execute the code in the cell below, then rewrite the program as a list comprehension in the cell below it to produce the same output."
   ]
  },
  {
   "cell_type": "code",
   "execution_count": 7,
   "metadata": {},
   "outputs": [
    {
     "name": "stdout",
     "output_type": "stream",
     "text": [
      "['a', 'b', 'c', 'd', 'e', 'f', 'g', 'h', 'i', 'j', 'k', 'l', 'm', 'n', 'o', 'p', 'q', 'r', 's', 't', 'u', 'v', 'w', 'x', 'y', 'z']\n"
     ]
    }
   ],
   "source": [
    "alphabet = []\n",
    "for char_code in range (97,123):\n",
    "    alphabet.append(chr(char_code))\n",
    "print(alphabet)"
   ]
  },
  {
   "cell_type": "code",
   "execution_count": null,
   "metadata": {},
   "outputs": [],
   "source": []
  },
  {
   "cell_type": "markdown",
   "metadata": {},
   "source": [
    "### Objective 3: A little more complicated redo\n",
    "In the cell below is another program that creates a list of data, but using list comprehension this can be done in less lines of code. In the cell below it rewrite the program to do so."
   ]
  },
  {
   "cell_type": "code",
   "execution_count": 11,
   "metadata": {},
   "outputs": [
    {
     "name": "stdout",
     "output_type": "stream",
     "text": [
      "['cheese', 'feta', 'anchovey']\n",
      "['ham', 'bacon', 'chicken']\n",
      "['tomato', 'mushrooms', 'herbs', 'pineapple']\n",
      "[('ham', 'anchovey', 'pineapple'), ('chicken', 'anchovey', 'herbs'), ('bacon', 'anchovey', 'herbs'), ('ham', 'feta', 'mushrooms'), ('ham', 'anchovey', 'mushrooms'), ('chicken', 'anchovey', 'pineapple'), ('ham', 'cheese', 'herbs'), ('bacon', 'feta', 'pineapple'), ('chicken', 'anchovey', 'herbs'), ('bacon', 'cheese', 'pineapple')]\n"
     ]
    }
   ],
   "source": [
    "from random import choice\n",
    "toppings = {\"cheese\":\"animal product\",\"ham\":\"meat\",\"bacon\":\"meat\",\n",
    "            \"tomato\":\"vegetable\",\"feta\":\"animal product\",\n",
    "            \"mushrooms\":\"vegetable\",\"herbs\":\"vegetable\",\n",
    "            \"pineapple\":\"vegetable\",\"chicken\":\"meat\",\n",
    "            \"anchovey\":\"animal product\"}\n",
    "meats = []\n",
    "animal_prods = []\n",
    "vegetables = []\n",
    "for k,v in toppings.items():\n",
    "    if v == \"animal product\": \n",
    "        animal_prods.append(k)\n",
    "    elif v == \"meat\": \n",
    "        meats.append(k)\n",
    "    elif v == \"vegetable\":\n",
    "        vegetables.append(k)\n",
    "\n",
    "print(animal_prods)\n",
    "print(meats)\n",
    "print(vegetables)\n",
    "\n",
    "one_one_one_pizza = []\n",
    "for i in range (10):\n",
    "    topping1 = choice(meats)\n",
    "    topping2 = choice(animal_prods)\n",
    "    topping3 = choice(vegetables)\n",
    "    one_one_one_pizza.append((topping1,topping2,topping3))\n",
    "print (one_one_one_pizza)"
   ]
  },
  {
   "cell_type": "code",
   "execution_count": null,
   "metadata": {},
   "outputs": [],
   "source": [
    "# Better list creation here!"
   ]
  },
  {
   "cell_type": "markdown",
   "metadata": {},
   "source": [
    "### Objective 3: Comprehending unlimited power\n",
    "The data belows shows the salary of employees with the respective number hours completed and their hourly wage. Create a list of the total number of money that needs to be paid out per person. The data should be a form a tuple with two elements, the name of the person and the total amount due to them."
   ]
  },
  {
   "cell_type": "code",
   "execution_count": null,
   "metadata": {},
   "outputs": [],
   "source": [
    "person = [\"John\",\"Jill\",\"Olga\",\"Bobby\",\"Winston\"]\n",
    "hourly = [15.99,10.25,19.50,13.59,60.0]\n",
    "worked = [140,200,125,99,100]\n",
    "\n",
    "\n",
    "# [(John, 2238.60), (Jill, ..., etc...]"
   ]
  },
  {
   "cell_type": "markdown",
   "metadata": {},
   "source": [
    "### Objective 4: Classify the payrolls\n",
    "Using the list above classify each person's wage bracket into the following criteria:\n",
    "* 0-2000: Low income\n",
    "* 2000-4000: Medium income\n",
    "* 4000+: High income\n",
    "\n",
    "Create a list with a printable statement that reads \"Person is has a Low income of XXXX\"."
   ]
  },
  {
   "cell_type": "code",
   "execution_count": null,
   "metadata": {},
   "outputs": [],
   "source": [
    "# result should be: [\"John has a Medium income of 2238.0\",\"... etc]"
   ]
  },
  {
   "cell_type": "markdown",
   "metadata": {},
   "source": [
    "### Objective 5: The downside?\n",
    "State the downside of using list comprehensions to create data sets? Prove your statement with an example"
   ]
  },
  {
   "cell_type": "markdown",
   "metadata": {},
   "source": []
  },
  {
   "cell_type": "code",
   "execution_count": null,
   "metadata": {},
   "outputs": [],
   "source": []
  },
  {
   "cell_type": "markdown",
   "metadata": {},
   "source": [
    "### Preperation for tomorrow...\n",
    "* Preread how generators work\n",
    "* Create a few generators using the techniques learned from list comprehension"
   ]
  },
  {
   "cell_type": "code",
   "execution_count": null,
   "metadata": {},
   "outputs": [],
   "source": []
  }
 ],
 "metadata": {
  "kernelspec": {
   "display_name": "Python 3",
   "language": "python",
   "name": "python3"
  },
  "language_info": {
   "codemirror_mode": {
    "name": "ipython",
    "version": 3
   },
   "file_extension": ".py",
   "mimetype": "text/x-python",
   "name": "python",
   "nbconvert_exporter": "python",
   "pygments_lexer": "ipython3",
   "version": "3.7.4"
  }
 },
 "nbformat": 4,
 "nbformat_minor": 4
}
